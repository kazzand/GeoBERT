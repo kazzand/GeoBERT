{
 "cells": [
  {
   "cell_type": "code",
   "execution_count": 1,
   "id": "ca6624af-6a68-453b-a950-1432d3c0d65d",
   "metadata": {},
   "outputs": [],
   "source": [
    "import pandas as pd\n",
    "import os\n",
    "import re\n",
    "\n",
    "from geopy.geocoders import Nominatim\n",
    "# from transformers import BertTokenizer, BertModel\n",
    "from tqdm.notebook import tqdm\n",
    "\n",
    "import torch\n",
    "import torch.nn as nn\n",
    "\n",
    "from torch.optim import Adam\n",
    "\n",
    "from torch.utils.data import DataLoader, Dataset\n",
    "from transformers import BertModel, BertTokenizer\n",
    "from sklearn.model_selection import train_test_split\n",
    "\n",
    "import matplotlib.pyplot as plt\n",
    "from IPython.display import clear_output\n",
    "from sklearn.metrics import f1_score, accuracy_score\n",
    "\n",
    "import sys\n",
    "sys.path.append('../')\n",
    "\n",
    "from datasets import CustomMetricLearningDataset\n",
    "from models import CountryEncoder"
   ]
  },
  {
   "cell_type": "code",
   "execution_count": 4,
   "id": "7783b37b-2b7d-4eb6-8e5a-efebfc676f0b",
   "metadata": {},
   "outputs": [
    {
     "name": "stderr",
     "output_type": "stream",
     "text": [
      "C:\\Users\\kazza\\anaconda3\\lib\\site-packages\\IPython\\core\\interactiveshell.py:3165: DtypeWarning: Columns (5) have mixed types.Specify dtype option on import or set low_memory=False.\n",
      "  has_raised = await self.run_ast_nodes(code_ast.body, cell_name,\n"
     ]
    }
   ],
   "source": [
    "data = pd.read_csv('../data/geotexts_data_clean.csv')"
   ]
  },
  {
   "cell_type": "code",
   "execution_count": 5,
   "id": "5929eb3f-3ae4-4d08-ac92-8ffcb24e3f96",
   "metadata": {},
   "outputs": [
    {
     "name": "stderr",
     "output_type": "stream",
     "text": [
      "Some weights of the model checkpoint at bert-base-multilingual-cased were not used when initializing BertModel: ['cls.predictions.bias', 'cls.predictions.transform.dense.weight', 'cls.seq_relationship.weight', 'cls.predictions.transform.LayerNorm.weight', 'cls.seq_relationship.bias', 'cls.predictions.transform.LayerNorm.bias', 'cls.predictions.decoder.weight', 'cls.predictions.transform.dense.bias']\n",
      "- This IS expected if you are initializing BertModel from the checkpoint of a model trained on another task or with another architecture (e.g. initializing a BertForSequenceClassification model from a BertForPreTraining model).\n",
      "- This IS NOT expected if you are initializing BertModel from the checkpoint of a model that you expect to be exactly identical (initializing a BertForSequenceClassification model from a BertForSequenceClassification model).\n"
     ]
    }
   ],
   "source": [
    "#use multilingual bert\n",
    "tokenizer = BertTokenizer.from_pretrained('bert-base-multilingual-cased')\n",
    "encoder = BertModel.from_pretrained(\"bert-base-multilingual-cased\")"
   ]
  },
  {
   "cell_type": "code",
   "execution_count": 6,
   "id": "f635b2b0-c586-444e-9993-6ecd1b6e033a",
   "metadata": {},
   "outputs": [
    {
     "name": "stderr",
     "output_type": "stream",
     "text": [
      "Cloning into 'ChildTuning'...\n"
     ]
    }
   ],
   "source": [
    "#add gradient dropout for tuning bert\n",
    "!git clone https://github.com/PKUnlp-icler/ChildTuning.git"
   ]
  },
  {
   "cell_type": "code",
   "execution_count": 7,
   "id": "ec9a3479-83c6-493a-87e4-8cdb17121545",
   "metadata": {},
   "outputs": [
    {
     "data": {
      "text/html": [
       "<div>\n",
       "<style scoped>\n",
       "    .dataframe tbody tr th:only-of-type {\n",
       "        vertical-align: middle;\n",
       "    }\n",
       "\n",
       "    .dataframe tbody tr th {\n",
       "        vertical-align: top;\n",
       "    }\n",
       "\n",
       "    .dataframe thead th {\n",
       "        text-align: right;\n",
       "    }\n",
       "</style>\n",
       "<table border=\"1\" class=\"dataframe\">\n",
       "  <thead>\n",
       "    <tr style=\"text-align: right;\">\n",
       "      <th></th>\n",
       "      <th>text</th>\n",
       "      <th>latitude</th>\n",
       "      <th>longitude</th>\n",
       "      <th>coord_pair</th>\n",
       "      <th>country</th>\n",
       "      <th>city</th>\n",
       "      <th>clean_text</th>\n",
       "      <th>lengths</th>\n",
       "    </tr>\n",
       "  </thead>\n",
       "  <tbody>\n",
       "    <tr>\n",
       "      <th>0</th>\n",
       "      <td>@Mafercoronelq Ese mal hay en todo el país, sa...</td>\n",
       "      <td>-0.033244</td>\n",
       "      <td>-75.452309</td>\n",
       "      <td>-0.0332440668675476,-75.45230903823258</td>\n",
       "      <td>Colombia</td>\n",
       "      <td>NaN</td>\n",
       "      <td>mafercoronelq ese mal hay en todo el país sale...</td>\n",
       "      <td>12</td>\n",
       "    </tr>\n",
       "    <tr>\n",
       "      <th>1</th>\n",
       "      <td>Qué hijueputa falta me hace visitar una librería.</td>\n",
       "      <td>-0.033244</td>\n",
       "      <td>-75.452309</td>\n",
       "      <td>-0.0332440668675476,-75.45230903823258</td>\n",
       "      <td>Colombia</td>\n",
       "      <td>NaN</td>\n",
       "      <td>qué hijueputa falta me hace visitar una librería</td>\n",
       "      <td>8</td>\n",
       "    </tr>\n",
       "    <tr>\n",
       "      <th>2</th>\n",
       "      <td>¡Echa un vistazo al vídeo de :panda: estiven q...</td>\n",
       "      <td>-0.033244</td>\n",
       "      <td>-75.452309</td>\n",
       "      <td>-0.0332440668675476,-75.45230903823258</td>\n",
       "      <td>Colombia</td>\n",
       "      <td>NaN</td>\n",
       "      <td>¡echa un vistazo al vídeo de :panda: estiven q...</td>\n",
       "      <td>11</td>\n",
       "    </tr>\n",
       "    <tr>\n",
       "      <th>3</th>\n",
       "      <td>@NathaliaPiru Y con uno menos :flexed_biceps_m...</td>\n",
       "      <td>-0.033244</td>\n",
       "      <td>-75.452309</td>\n",
       "      <td>-0.0332440668675476,-75.45230903823258</td>\n",
       "      <td>Colombia</td>\n",
       "      <td>NaN</td>\n",
       "      <td>nathaliapiru y con uno menos :flexed_biceps_me...</td>\n",
       "      <td>6</td>\n",
       "    </tr>\n",
       "    <tr>\n",
       "      <th>4</th>\n",
       "      <td>@ginger21gl Lloro de felicidad por el bombillo...</td>\n",
       "      <td>-0.033244</td>\n",
       "      <td>-75.452309</td>\n",
       "      <td>-0.0332440668675476,-75.45230903823258</td>\n",
       "      <td>Colombia</td>\n",
       "      <td>NaN</td>\n",
       "      <td>ginger21gl lloro de felicidad por el bombillo ...</td>\n",
       "      <td>18</td>\n",
       "    </tr>\n",
       "    <tr>\n",
       "      <th>...</th>\n",
       "      <td>...</td>\n",
       "      <td>...</td>\n",
       "      <td>...</td>\n",
       "      <td>...</td>\n",
       "      <td>...</td>\n",
       "      <td>...</td>\n",
       "      <td>...</td>\n",
       "      <td>...</td>\n",
       "    </tr>\n",
       "    <tr>\n",
       "      <th>3198664</th>\n",
       "      <td>Tenho que aprender ignorar até perder totalmen...</td>\n",
       "      <td>-23.905163</td>\n",
       "      <td>-51.379483</td>\n",
       "      <td>-23.90516344419062,-51.37948289982119</td>\n",
       "      <td>Brasil</td>\n",
       "      <td>NaN</td>\n",
       "      <td>tenho que aprender ignorar até perder totalmen...</td>\n",
       "      <td>19</td>\n",
       "    </tr>\n",
       "    <tr>\n",
       "      <th>3198665</th>\n",
       "      <td>O dia inteiro de cama, dor de cabeça afuuuuuuu...</td>\n",
       "      <td>-29.867178</td>\n",
       "      <td>-51.263803</td>\n",
       "      <td>-29.867178345065145,-51.26380260608896</td>\n",
       "      <td>Brasil</td>\n",
       "      <td>NaN</td>\n",
       "      <td>o dia inteiro de cama dor de cabeça afuuuuuuu ...</td>\n",
       "      <td>10</td>\n",
       "    </tr>\n",
       "    <tr>\n",
       "      <th>3198666</th>\n",
       "      <td>Karen deixa o Ronny falar</td>\n",
       "      <td>-27.164023</td>\n",
       "      <td>-48.349510</td>\n",
       "      <td>-27.164023165524533,-48.34950953691835</td>\n",
       "      <td>Brasil</td>\n",
       "      <td>NaN</td>\n",
       "      <td>karen deixa o ronny falar</td>\n",
       "      <td>5</td>\n",
       "    </tr>\n",
       "    <tr>\n",
       "      <th>3198667</th>\n",
       "      <td>Tô há 2 anos sem fazer nenhuma viagenzinha, es...</td>\n",
       "      <td>2.678109</td>\n",
       "      <td>-61.983615</td>\n",
       "      <td>2.678108739998308,-61.98361544632427</td>\n",
       "      <td>Brasil</td>\n",
       "      <td>NaN</td>\n",
       "      <td>tô há 2 anos sem fazer nenhuma viagenzinha ess...</td>\n",
       "      <td>16</td>\n",
       "    </tr>\n",
       "    <tr>\n",
       "      <th>3198668</th>\n",
       "      <td>Jamais mude seu jeito de ser por conta de outr...</td>\n",
       "      <td>-27.152134</td>\n",
       "      <td>-53.829493</td>\n",
       "      <td>-27.15213427844897,-53.8294929824894</td>\n",
       "      <td>Brasil</td>\n",
       "      <td>Itapiranga</td>\n",
       "      <td>jamais mude seu jeito de ser por conta de outr...</td>\n",
       "      <td>12</td>\n",
       "    </tr>\n",
       "  </tbody>\n",
       "</table>\n",
       "<p>3198669 rows × 8 columns</p>\n",
       "</div>"
      ],
      "text/plain": [
       "                                                      text   latitude  \\\n",
       "0        @Mafercoronelq Ese mal hay en todo el país, sa...  -0.033244   \n",
       "1        Qué hijueputa falta me hace visitar una librería.  -0.033244   \n",
       "2        ¡Echa un vistazo al vídeo de :panda: estiven q...  -0.033244   \n",
       "3        @NathaliaPiru Y con uno menos :flexed_biceps_m...  -0.033244   \n",
       "4        @ginger21gl Lloro de felicidad por el bombillo...  -0.033244   \n",
       "...                                                    ...        ...   \n",
       "3198664  Tenho que aprender ignorar até perder totalmen... -23.905163   \n",
       "3198665  O dia inteiro de cama, dor de cabeça afuuuuuuu... -29.867178   \n",
       "3198666                          Karen deixa o Ronny falar -27.164023   \n",
       "3198667  Tô há 2 anos sem fazer nenhuma viagenzinha, es...   2.678109   \n",
       "3198668  Jamais mude seu jeito de ser por conta de outr... -27.152134   \n",
       "\n",
       "         longitude                              coord_pair   country  \\\n",
       "0       -75.452309  -0.0332440668675476,-75.45230903823258  Colombia   \n",
       "1       -75.452309  -0.0332440668675476,-75.45230903823258  Colombia   \n",
       "2       -75.452309  -0.0332440668675476,-75.45230903823258  Colombia   \n",
       "3       -75.452309  -0.0332440668675476,-75.45230903823258  Colombia   \n",
       "4       -75.452309  -0.0332440668675476,-75.45230903823258  Colombia   \n",
       "...            ...                                     ...       ...   \n",
       "3198664 -51.379483   -23.90516344419062,-51.37948289982119    Brasil   \n",
       "3198665 -51.263803  -29.867178345065145,-51.26380260608896    Brasil   \n",
       "3198666 -48.349510  -27.164023165524533,-48.34950953691835    Brasil   \n",
       "3198667 -61.983615    2.678108739998308,-61.98361544632427    Brasil   \n",
       "3198668 -53.829493    -27.15213427844897,-53.8294929824894    Brasil   \n",
       "\n",
       "               city                                         clean_text  \\\n",
       "0               NaN  mafercoronelq ese mal hay en todo el país sale...   \n",
       "1               NaN   qué hijueputa falta me hace visitar una librería   \n",
       "2               NaN  ¡echa un vistazo al vídeo de :panda: estiven q...   \n",
       "3               NaN  nathaliapiru y con uno menos :flexed_biceps_me...   \n",
       "4               NaN  ginger21gl lloro de felicidad por el bombillo ...   \n",
       "...             ...                                                ...   \n",
       "3198664         NaN  tenho que aprender ignorar até perder totalmen...   \n",
       "3198665         NaN  o dia inteiro de cama dor de cabeça afuuuuuuu ...   \n",
       "3198666         NaN                          karen deixa o ronny falar   \n",
       "3198667         NaN  tô há 2 anos sem fazer nenhuma viagenzinha ess...   \n",
       "3198668  Itapiranga  jamais mude seu jeito de ser por conta de outr...   \n",
       "\n",
       "         lengths  \n",
       "0             12  \n",
       "1              8  \n",
       "2             11  \n",
       "3              6  \n",
       "4             18  \n",
       "...          ...  \n",
       "3198664       19  \n",
       "3198665       10  \n",
       "3198666        5  \n",
       "3198667       16  \n",
       "3198668       12  \n",
       "\n",
       "[3198669 rows x 8 columns]"
      ]
     },
     "execution_count": 7,
     "metadata": {},
     "output_type": "execute_result"
    }
   ],
   "source": [
    "data"
   ]
  },
  {
   "cell_type": "code",
   "execution_count": null,
   "id": "f1cf9b9a-e91e-4b90-b228-a777ffb312c7",
   "metadata": {},
   "outputs": [],
   "source": []
  },
  {
   "cell_type": "code",
   "execution_count": 8,
   "id": "479699a8-0a47-452a-bad4-57a490b640d7",
   "metadata": {},
   "outputs": [
    {
     "name": "stdout",
     "output_type": "stream",
     "text": [
      "(3075246, 8)\n"
     ]
    }
   ],
   "source": [
    "data = data.dropna(subset=['country'])\n",
    "data = data[data['country'] != 'NaN']\n",
    "print(data.shape)\n",
    "train_data, val_data = train_test_split(data, test_size = 0.1, stratify=data['country'], shuffle=True, random_state=42)\n",
    "\n",
    "train_dataset = CustomMetricLearningDataset(train_data, 'text', 'country')\n",
    "train_dataloader = DataLoader(train_dataset, batch_size = 32)\n",
    "\n",
    "# val_dataset = CustomMetricLearningDataset(val_data, 'text')\n",
    "# val_dataloader = DataLoader(val_dataset, batch_size = 32)"
   ]
  },
  {
   "cell_type": "code",
   "execution_count": 9,
   "id": "a445223a-0687-47a8-ae82-99bc3029cfa3",
   "metadata": {},
   "outputs": [],
   "source": [
    "model = CountryEncoder(encoder, tokenizer)\n"
   ]
  },
  {
   "cell_type": "code",
   "execution_count": 10,
   "id": "44964741-93f7-47a5-a765-c28fa50b64d1",
   "metadata": {},
   "outputs": [],
   "source": [
    "from ChildTuning.ChildTuningOptimizer import ChildTuningAdamW\n",
    "optimizer = ChildTuningAdamW(model.parameters(), lr=1e-6, reserve_p = 0.5)\n",
    "epochs = 20"
   ]
  },
  {
   "cell_type": "code",
   "execution_count": 12,
   "id": "2660562d-9d35-4933-9fb9-e08a6ab88663",
   "metadata": {},
   "outputs": [
    {
     "name": "stdout",
     "output_type": "stream",
     "text": [
      "Requirement already satisfied: pytorch-metric-learning in c:\\users\\kazza\\anaconda3\\lib\\site-packages (1.4.0)\n",
      "Requirement already satisfied: tqdm in c:\\users\\kazza\\anaconda3\\lib\\site-packages (from pytorch-metric-learning) (4.59.0)\n",
      "Requirement already satisfied: torch>=1.6.0 in c:\\users\\kazza\\anaconda3\\lib\\site-packages (from pytorch-metric-learning) (1.9.1)\n",
      "Requirement already satisfied: torchvision in c:\\users\\kazza\\anaconda3\\lib\\site-packages (from pytorch-metric-learning) (0.10.1)\n",
      "Requirement already satisfied: numpy in c:\\users\\kazza\\anaconda3\\lib\\site-packages (from pytorch-metric-learning) (1.20.1)\n",
      "Requirement already satisfied: scikit-learn in c:\\users\\kazza\\anaconda3\\lib\\site-packages (from pytorch-metric-learning) (0.24.1)\n",
      "Requirement already satisfied: typing_extensions in c:\\users\\kazza\\anaconda3\\lib\\site-packages (from torch>=1.6.0->pytorch-metric-learning) (3.7.4.3)\n",
      "Requirement already satisfied: scipy>=0.19.1 in c:\\users\\kazza\\anaconda3\\lib\\site-packages (from scikit-learn->pytorch-metric-learning) (1.6.2)\n",
      "Requirement already satisfied: threadpoolctl>=2.0.0 in c:\\users\\kazza\\anaconda3\\lib\\site-packages (from scikit-learn->pytorch-metric-learning) (2.1.0)\n",
      "Requirement already satisfied: joblib>=0.11 in c:\\users\\kazza\\anaconda3\\lib\\site-packages (from scikit-learn->pytorch-metric-learning) (1.0.1)\n",
      "Requirement already satisfied: pillow>=5.3.0 in c:\\users\\kazza\\anaconda3\\lib\\site-packages (from torchvision->pytorch-metric-learning) (8.2.0)\n"
     ]
    }
   ],
   "source": [
    "!pip install pytorch-metric-learning"
   ]
  },
  {
   "cell_type": "code",
   "execution_count": 13,
   "id": "66aa3eeb-ed22-4b22-b8d0-6462c97166a4",
   "metadata": {},
   "outputs": [],
   "source": [
    "from pytorch_metric_learning.distances import CosineSimilarity\n",
    "# from pytorch_metric_learning.reducers import ThresholdReducer\n",
    "# from pytorch_metric_learning.regularizers import LpRegularizer\n",
    "from pytorch_metric_learning import losses\n",
    "loss_func = losses.TripletMarginLoss(distance = CosineSimilarity())\n",
    "device = torch.device('cuda')"
   ]
  },
  {
   "cell_type": "code",
   "execution_count": null,
   "id": "829a167d-a224-4134-b1ec-3905996d0e0f",
   "metadata": {},
   "outputs": [
    {
     "name": "stdout",
     "output_type": "stream",
     "text": [
      "9440\n"
     ]
    },
    {
     "data": {
      "image/png": "[encoded data removed]",
      "text/plain": [
       "<Figure size 432x288 with 1 Axes>"
      ]
     },
     "metadata": {
      "needs_background": "light"
     },
     "output_type": "display_data"
    }
   ],
   "source": [
    "losses = []\n",
    "for epoch in range(epochs):\n",
    "    for i, batch in enumerate(train_dataloader):\n",
    "\n",
    "        logits = model.forward(batch[0])\n",
    "        labels = batch[1].to(device)\n",
    "        loss = loss_func(logits, labels.to(device))\n",
    "        \n",
    "        loss.backward()\n",
    "\n",
    "        #feel lack of memory, so I use gradient accumulation\n",
    "        if i % 5 == 0:\n",
    "            optimizer.step()\n",
    "            optimizer.zero_grad()\n",
    "        \n",
    "        losses.append(loss.item())\n",
    "\n",
    "        if i % 20 == 0:\n",
    "            clear_output()\n",
    "            print(i)\n",
    "            plt.semilogy(losses)\n",
    "            plt.show()\n",
    "        if (i % 300 == 0)&(i != 0):\n",
    "            torch.save(model.bert_model.state_dict(), f'bert_country_encoder2.pt')"
   ]
  },
  {
   "cell_type": "code",
   "execution_count": null,
   "id": "c682f13c-2080-446e-8425-9ec8de8855d9",
   "metadata": {},
   "outputs": [],
   "source": []
  }
 ],
 "metadata": {
  "kernelspec": {
   "display_name": "Python 3",
   "language": "python",
   "name": "python3"
  },
  "language_info": {
   "codemirror_mode": {
    "name": "ipython",
    "version": 3
   },
   "file_extension": ".py",
   "mimetype": "text/x-python",
   "name": "python",
   "nbconvert_exporter": "python",
   "pygments_lexer": "ipython3",
   "version": "3.8.8"
  }
 },
 "nbformat": 4,
 "nbformat_minor": 5
}
