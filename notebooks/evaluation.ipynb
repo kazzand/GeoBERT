{
 "cells": [
  {
   "cell_type": "code",
   "execution_count": 30,
   "id": "3e39029f-6c74-4bd0-a9e8-cc00e47364e5",
   "metadata": {},
   "outputs": [],
   "source": [
    "import emoji\n",
    "import pandas as pd\n",
    "import os\n",
    "import re\n",
    "import torch\n",
    "import torch.nn as nn\n",
    "import numpy as np\n",
    "import sys\n",
    "sys.path.append('../')\n",
    "\n",
    "from torch.utils.data import DataLoader, Dataset\n",
    "from transformers import BertModel, BertTokenizer\n",
    "from sklearn.metrics import f1_score, accuracy_score\n",
    "from tqdm.notebook import tqdm\n",
    "from datasets import EvaluationDataset\n",
    "from models import BertRegressionModelBase\n",
    "from utils import decode_norm_lat, decode_norm_long, MAE_km"
   ]
  },
  {
   "cell_type": "code",
   "execution_count": 2,
   "id": "f113e938-8623-4b35-89a3-217a79d6041b",
   "metadata": {},
   "outputs": [
    {
     "name": "stderr",
     "output_type": "stream",
     "text": [
      "C:\\Users\\kazza\\anaconda3\\lib\\site-packages\\IPython\\core\\interactiveshell.py:3165: DtypeWarning: Columns (5) have mixed types.Specify dtype option on import or set low_memory=False.\n",
      "  has_raised = await self.run_ast_nodes(code_ast.body, cell_name,\n"
     ]
    }
   ],
   "source": [
    "data = pd.read_csv('../data/geotexts_data_clean.csv')"
   ]
  },
  {
   "cell_type": "code",
   "execution_count": 3,
   "id": "8e239b1a-50f3-49b5-a868-7fd6ba364dd2",
   "metadata": {},
   "outputs": [],
   "source": [
    "def remove_url(text):\n",
    "    return re.sub(r'http\\S+', '', text)\n"
   ]
  },
  {
   "cell_type": "code",
   "execution_count": 4,
   "id": "e0537f9e-3e94-48ae-8f7c-e9dcbe7f5f0c",
   "metadata": {},
   "outputs": [],
   "source": [
    "def text_preprocess(text):\n",
    "    text = emoji.demojize(text)\n",
    "    text = remove_url(text)\n",
    "    return text\n",
    "    "
   ]
  },
  {
   "cell_type": "code",
   "execution_count": 5,
   "id": "00e7c00a-cc31-4561-988c-f25f75a8f2f7",
   "metadata": {},
   "outputs": [
    {
     "name": "stderr",
     "output_type": "stream",
     "text": [
      "Some weights of the model checkpoint at bert-base-multilingual-cased were not used when initializing BertModel: ['cls.predictions.bias', 'cls.predictions.decoder.weight', 'cls.predictions.transform.dense.weight', 'cls.predictions.transform.LayerNorm.bias', 'cls.seq_relationship.weight', 'cls.predictions.transform.dense.bias', 'cls.predictions.transform.LayerNorm.weight', 'cls.seq_relationship.bias']\n",
      "- This IS expected if you are initializing BertModel from the checkpoint of a model trained on another task or with another architecture (e.g. initializing a BertForSequenceClassification model from a BertForPreTraining model).\n",
      "- This IS NOT expected if you are initializing BertModel from the checkpoint of a model that you expect to be exactly identical (initializing a BertForSequenceClassification model from a BertForSequenceClassification model).\n"
     ]
    }
   ],
   "source": [
    "#use multilingual bert\n",
    "tokenizer = BertTokenizer.from_pretrained('bert-base-multilingual-cased')\n",
    "encoder = BertModel.from_pretrained(\"bert-base-multilingual-cased\")\n",
    "# encoder.load_state_dict(torch.load(\"bert_country_encoder2.pt\"))"
   ]
  },
  {
   "cell_type": "code",
   "execution_count": 6,
   "id": "8441a944-9409-47ba-ad65-3a9ee8ec49be",
   "metadata": {},
   "outputs": [
    {
     "data": {
      "text/plain": [
       "<All keys matched successfully>"
      ]
     },
     "execution_count": 6,
     "metadata": {},
     "output_type": "execute_result"
    }
   ],
   "source": [
    "model = BertRegressionModelBase(encoder, tokenizer)\n",
    "model.load_state_dict(torch.load(\"../data/geomodeldefault.pt\"))"
   ]
  },
  {
   "cell_type": "code",
   "execution_count": 47,
   "id": "891d61fc-76e6-4d44-9d58-3f9c123e48d0",
   "metadata": {},
   "outputs": [],
   "source": [
    "def evaluate(texts, model, device=\"cuda\", batch_size=32):\n",
    "    res = []\n",
    "    DEVICE = torch.device(device)\n",
    "    texts = [text_preprocess(text) for text in texts]\n",
    "    dataset = EvaluationDataset(texts)\n",
    "    dataloader = DataLoader(dataset, batch_size = batch_size)\n",
    "    for batch in tqdm(dataloader):\n",
    "        with torch.no_grad():\n",
    "            logits = model.forward(batch).cpu().numpy()\n",
    "            for coords in logits:\n",
    "                decoded_coords = (decode_norm_lat(coords[0]), decode_norm_long(coords[1]))\n",
    "                res.append(decoded_coords)\n",
    "    return res\n",
    "        \n",
    "    \n",
    "    "
   ]
  },
  {
   "cell_type": "code",
   "execution_count": 49,
   "id": "f78b0848-8630-4b3c-86b9-423a5f6f203c",
   "metadata": {},
   "outputs": [
    {
     "data": {
      "application/vnd.jupyter.widget-view+json": {
       "model_id": "d4293b009c874ed48e68b4a5c9d27a03",
       "version_major": 2,
       "version_minor": 0
      },
      "text/plain": [
       "  0%|          | 0/1 [00:00<?, ?it/s]"
      ]
     },
     "metadata": {},
     "output_type": "display_data"
    }
   ],
   "source": [
    "preds = evaluate(data['text'][:10], model)"
   ]
  },
  {
   "cell_type": "code",
   "execution_count": 44,
   "id": "0274ccc8-1d2c-4c07-893c-391d763d9821",
   "metadata": {},
   "outputs": [],
   "source": [
    "labels = [(lat, long) for lat, long in zip(data['latitude'][:10], data['longitude'][:10])]"
   ]
  },
  {
   "cell_type": "code",
   "execution_count": 45,
   "id": "931ad482-7088-4962-a986-608e8870a7e2",
   "metadata": {},
   "outputs": [
    {
     "data": {
      "text/plain": [
       "[(-0.0332440668675476, -75.45230903823258),\n",
       " (-0.0332440668675476, -75.45230903823258),\n",
       " (-0.0332440668675476, -75.45230903823258),\n",
       " (-0.0332440668675476, -75.45230903823258),\n",
       " (-0.0332440668675476, -75.45230903823258),\n",
       " (-0.0332440668675476, -75.45230903823258),\n",
       " (-0.0332440668675476, -75.45230903823258),\n",
       " (-0.0332440668675476, -75.45230903823258),\n",
       " (-0.0332440668675476, -75.45230903823258),\n",
       " (-0.0332440668675476, -75.45230903823258)]"
      ]
     },
     "execution_count": 45,
     "metadata": {},
     "output_type": "execute_result"
    }
   ],
   "source": [
    "labels"
   ]
  },
  {
   "cell_type": "code",
   "execution_count": 50,
   "id": "13c5d9ea-1b14-4eae-a886-f1c9b10dd278",
   "metadata": {},
   "outputs": [
    {
     "name": "stdout",
     "output_type": "stream",
     "text": [
      "333.5154782737243\n",
      "297.4366233135621\n",
      "280.10289530676243\n",
      "362.9137139606802\n",
      "534.6946273905927\n",
      "704.4872239974543\n",
      "422.9544866021564\n",
      "170.11222841452278\n",
      "384.69303409120505\n",
      "391.7653611486112\n"
     ]
    }
   ],
   "source": [
    "for predicted_coord, true_coords in zip(preds, labels):\n",
    "    print(MAE_km(predicted_coord, true_coords))"
   ]
  },
  {
   "cell_type": "code",
   "execution_count": null,
   "id": "2c2e6c9d-d1c8-46ac-ba51-e7d3db83eff0",
   "metadata": {},
   "outputs": [],
   "source": []
  }
 ],
 "metadata": {
  "kernelspec": {
   "display_name": "Python 3",
   "language": "python",
   "name": "python3"
  },
  "language_info": {
   "codemirror_mode": {
    "name": "ipython",
    "version": 3
   },
   "file_extension": ".py",
   "mimetype": "text/x-python",
   "name": "python",
   "nbconvert_exporter": "python",
   "pygments_lexer": "ipython3",
   "version": "3.8.8"
  }
 },
 "nbformat": 4,
 "nbformat_minor": 5
}
